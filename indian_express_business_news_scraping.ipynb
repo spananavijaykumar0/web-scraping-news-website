{
 "cells": [
  {
   "cell_type": "code",
   "execution_count": 46,
   "id": "8b99a5d4-4a30-4d53-996a-432677ab8844",
   "metadata": {},
   "outputs": [
    {
     "name": "stdout",
     "output_type": "stream",
     "text": [
      "CSV file 'business_news.csv' has been successfully created.\n"
     ]
    }
   ],
   "source": [
    "import csv\n",
    "import requests\n",
    "from bs4 import BeautifulSoup\n",
    "\n",
    "url = 'https://api.scrapingdog.com/scrape?api_key=669b497eacad4461f587a059&url=https://indianexpress.com/section/business/&dynamic=false'\n",
    "\n",
    "headers = {\n",
    "    \"User-Agent\": \"Mozilla/5.0 (Windows NT 10.0; Win64; x64) AppleWebKit/537.36 (KHTML, like Gecko) Chrome/91.0.4472.124 Safari/537.36\",\n",
    "    \"Accept-Encoding\": \"gzip, deflate\",\n",
    "    \"Accept\": \"text/html,application/xhtml+xml,application/xml;q=0.9,image/webp,image/apng,*/*;q=0.8,application/signed-exchange;v=b3;q=0.9\",\n",
    "    \"Connection\": \"keep-alive\",\n",
    "    \"Accept-Language\": \"en-US,en;q=0.9,lt;q=0.8,et;q=0.7,de;q=0.6\",\n",
    "}\n",
    "\n",
    "response = requests.get(url, headers=headers)\n",
    "soup = BeautifulSoup(response.content, 'html.parser')\n",
    "\n",
    "# Assuming articles are listed under div with class 'nation'\n",
    "nation_section = soup.find('div', class_='nation')\n",
    "\n",
    "if nation_section:\n",
    "    business_news = nation_section.find_all('div', class_='articles')\n",
    "\n",
    "    news_business = []\n",
    "\n",
    "    for article in business_news:\n",
    "        title = article.find('h2', class_='title')\n",
    "        date = article.find('div', class_='date')\n",
    "        \n",
    "        if title and date:\n",
    "            title_text = title.text.strip()\n",
    "            date_text = date.text.strip()\n",
    "            \n",
    "\n",
    "            news_business.append({\n",
    "                'Title of article': title_text,\n",
    "                'Date': date_text,\n",
    "                \n",
    "            })\n",
    "             # Writing to CSV file\n",
    "    csv_file = 'business_news.csv'\n",
    "    csv_columns = ['Title of article', 'Date',]\n",
    "\n",
    "    try:\n",
    "        with open(csv_file, 'w', newline='', encoding='utf-8') as csvfile:\n",
    "            writer = csv.DictWriter(csvfile, fieldnames=csv_columns)\n",
    "            writer.writeheader()\n",
    "            for news in news_business:\n",
    "                writer.writerow(news)\n",
    "        print(f\"CSV file '{csv_file}' has been successfully created.\")\n",
    "    except IOError:\n",
    "        print(\"I/O error occurred while writing CSV file.\")\n",
    "else:\n",
    "    print(\"Failed to find the 'nation' section on the page.\")\n",
    "\n",
    "    "
   ]
  },
  {
   "cell_type": "code",
   "execution_count": null,
   "id": "b4314914-acd4-4eea-975c-39a1a2371412",
   "metadata": {},
   "outputs": [],
   "source": []
  },
  {
   "cell_type": "code",
   "execution_count": null,
   "id": "42280e90-6123-4ed2-b297-0dcf70a8b885",
   "metadata": {},
   "outputs": [],
   "source": []
  }
 ],
 "metadata": {
  "kernelspec": {
   "display_name": "anaconda-panel-2023.05-py310",
   "language": "python",
   "name": "conda-env-anaconda-panel-2023.05-py310-py"
  },
  "language_info": {
   "codemirror_mode": {
    "name": "ipython",
    "version": 3
   },
   "file_extension": ".py",
   "mimetype": "text/x-python",
   "name": "python",
   "nbconvert_exporter": "python",
   "pygments_lexer": "ipython3",
   "version": "3.11.5"
  }
 },
 "nbformat": 4,
 "nbformat_minor": 5
}
